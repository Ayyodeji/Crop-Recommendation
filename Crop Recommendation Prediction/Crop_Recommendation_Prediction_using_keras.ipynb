{
  "cells": [
    {
      "cell_type": "markdown",
      "metadata": {
        "id": "OUkjApiz3u0q"
      },
      "source": [
        "# **Importing libraries**"
      ]
    },
    {
      "cell_type": "code",
      "execution_count": 1,
      "metadata": {
        "id": "KtSzPee63u0r"
      },
      "outputs": [],
      "source": [
        "%matplotlib inline\n",
        "import numpy as np # linear algebra\n",
        "import pandas as pd # data processing, CSV file I/O (e.g. pd.read_csv)\n",
        "from sklearn.preprocessing import StandardScaler\n",
        "from sklearn.model_selection import train_test_split\n",
        "from sklearn.metrics import classification_report, confusion_matrix\n",
        "from sklearn.preprocessing import OneHotEncoder\n",
        "import seaborn as sns\n",
        "import matplotlib.pyplot as plt\n",
        "from keras.models import Sequential\n",
        "from keras.layers import Dense, LSTM"
      ]
    },
    {
      "cell_type": "code",
      "execution_count": 2,
      "metadata": {
        "colab": {
          "base_uri": "https://localhost:8080/",
          "height": 73
        },
        "id": "G844PnAQDCq5",
        "outputId": "7fbb78e1-c8fe-4820-ac62-b2c3216068e5"
      },
      "outputs": [
        {
          "output_type": "display_data",
          "data": {
            "text/plain": [
              "<IPython.core.display.HTML object>"
            ],
            "text/html": [
              "\n",
              "     <input type=\"file\" id=\"files-e941530d-5eaa-449b-8e8f-ddc86a5fbe5b\" name=\"files[]\" multiple disabled\n",
              "        style=\"border:none\" />\n",
              "     <output id=\"result-e941530d-5eaa-449b-8e8f-ddc86a5fbe5b\">\n",
              "      Upload widget is only available when the cell has been executed in the\n",
              "      current browser session. Please rerun this cell to enable.\n",
              "      </output>\n",
              "      <script>// Copyright 2017 Google LLC\n",
              "//\n",
              "// Licensed under the Apache License, Version 2.0 (the \"License\");\n",
              "// you may not use this file except in compliance with the License.\n",
              "// You may obtain a copy of the License at\n",
              "//\n",
              "//      http://www.apache.org/licenses/LICENSE-2.0\n",
              "//\n",
              "// Unless required by applicable law or agreed to in writing, software\n",
              "// distributed under the License is distributed on an \"AS IS\" BASIS,\n",
              "// WITHOUT WARRANTIES OR CONDITIONS OF ANY KIND, either express or implied.\n",
              "// See the License for the specific language governing permissions and\n",
              "// limitations under the License.\n",
              "\n",
              "/**\n",
              " * @fileoverview Helpers for google.colab Python module.\n",
              " */\n",
              "(function(scope) {\n",
              "function span(text, styleAttributes = {}) {\n",
              "  const element = document.createElement('span');\n",
              "  element.textContent = text;\n",
              "  for (const key of Object.keys(styleAttributes)) {\n",
              "    element.style[key] = styleAttributes[key];\n",
              "  }\n",
              "  return element;\n",
              "}\n",
              "\n",
              "// Max number of bytes which will be uploaded at a time.\n",
              "const MAX_PAYLOAD_SIZE = 100 * 1024;\n",
              "\n",
              "function _uploadFiles(inputId, outputId) {\n",
              "  const steps = uploadFilesStep(inputId, outputId);\n",
              "  const outputElement = document.getElementById(outputId);\n",
              "  // Cache steps on the outputElement to make it available for the next call\n",
              "  // to uploadFilesContinue from Python.\n",
              "  outputElement.steps = steps;\n",
              "\n",
              "  return _uploadFilesContinue(outputId);\n",
              "}\n",
              "\n",
              "// This is roughly an async generator (not supported in the browser yet),\n",
              "// where there are multiple asynchronous steps and the Python side is going\n",
              "// to poll for completion of each step.\n",
              "// This uses a Promise to block the python side on completion of each step,\n",
              "// then passes the result of the previous step as the input to the next step.\n",
              "function _uploadFilesContinue(outputId) {\n",
              "  const outputElement = document.getElementById(outputId);\n",
              "  const steps = outputElement.steps;\n",
              "\n",
              "  const next = steps.next(outputElement.lastPromiseValue);\n",
              "  return Promise.resolve(next.value.promise).then((value) => {\n",
              "    // Cache the last promise value to make it available to the next\n",
              "    // step of the generator.\n",
              "    outputElement.lastPromiseValue = value;\n",
              "    return next.value.response;\n",
              "  });\n",
              "}\n",
              "\n",
              "/**\n",
              " * Generator function which is called between each async step of the upload\n",
              " * process.\n",
              " * @param {string} inputId Element ID of the input file picker element.\n",
              " * @param {string} outputId Element ID of the output display.\n",
              " * @return {!Iterable<!Object>} Iterable of next steps.\n",
              " */\n",
              "function* uploadFilesStep(inputId, outputId) {\n",
              "  const inputElement = document.getElementById(inputId);\n",
              "  inputElement.disabled = false;\n",
              "\n",
              "  const outputElement = document.getElementById(outputId);\n",
              "  outputElement.innerHTML = '';\n",
              "\n",
              "  const pickedPromise = new Promise((resolve) => {\n",
              "    inputElement.addEventListener('change', (e) => {\n",
              "      resolve(e.target.files);\n",
              "    });\n",
              "  });\n",
              "\n",
              "  const cancel = document.createElement('button');\n",
              "  inputElement.parentElement.appendChild(cancel);\n",
              "  cancel.textContent = 'Cancel upload';\n",
              "  const cancelPromise = new Promise((resolve) => {\n",
              "    cancel.onclick = () => {\n",
              "      resolve(null);\n",
              "    };\n",
              "  });\n",
              "\n",
              "  // Wait for the user to pick the files.\n",
              "  const files = yield {\n",
              "    promise: Promise.race([pickedPromise, cancelPromise]),\n",
              "    response: {\n",
              "      action: 'starting',\n",
              "    }\n",
              "  };\n",
              "\n",
              "  cancel.remove();\n",
              "\n",
              "  // Disable the input element since further picks are not allowed.\n",
              "  inputElement.disabled = true;\n",
              "\n",
              "  if (!files) {\n",
              "    return {\n",
              "      response: {\n",
              "        action: 'complete',\n",
              "      }\n",
              "    };\n",
              "  }\n",
              "\n",
              "  for (const file of files) {\n",
              "    const li = document.createElement('li');\n",
              "    li.append(span(file.name, {fontWeight: 'bold'}));\n",
              "    li.append(span(\n",
              "        `(${file.type || 'n/a'}) - ${file.size} bytes, ` +\n",
              "        `last modified: ${\n",
              "            file.lastModifiedDate ? file.lastModifiedDate.toLocaleDateString() :\n",
              "                                    'n/a'} - `));\n",
              "    const percent = span('0% done');\n",
              "    li.appendChild(percent);\n",
              "\n",
              "    outputElement.appendChild(li);\n",
              "\n",
              "    const fileDataPromise = new Promise((resolve) => {\n",
              "      const reader = new FileReader();\n",
              "      reader.onload = (e) => {\n",
              "        resolve(e.target.result);\n",
              "      };\n",
              "      reader.readAsArrayBuffer(file);\n",
              "    });\n",
              "    // Wait for the data to be ready.\n",
              "    let fileData = yield {\n",
              "      promise: fileDataPromise,\n",
              "      response: {\n",
              "        action: 'continue',\n",
              "      }\n",
              "    };\n",
              "\n",
              "    // Use a chunked sending to avoid message size limits. See b/62115660.\n",
              "    let position = 0;\n",
              "    do {\n",
              "      const length = Math.min(fileData.byteLength - position, MAX_PAYLOAD_SIZE);\n",
              "      const chunk = new Uint8Array(fileData, position, length);\n",
              "      position += length;\n",
              "\n",
              "      const base64 = btoa(String.fromCharCode.apply(null, chunk));\n",
              "      yield {\n",
              "        response: {\n",
              "          action: 'append',\n",
              "          file: file.name,\n",
              "          data: base64,\n",
              "        },\n",
              "      };\n",
              "\n",
              "      let percentDone = fileData.byteLength === 0 ?\n",
              "          100 :\n",
              "          Math.round((position / fileData.byteLength) * 100);\n",
              "      percent.textContent = `${percentDone}% done`;\n",
              "\n",
              "    } while (position < fileData.byteLength);\n",
              "  }\n",
              "\n",
              "  // All done.\n",
              "  yield {\n",
              "    response: {\n",
              "      action: 'complete',\n",
              "    }\n",
              "  };\n",
              "}\n",
              "\n",
              "scope.google = scope.google || {};\n",
              "scope.google.colab = scope.google.colab || {};\n",
              "scope.google.colab._files = {\n",
              "  _uploadFiles,\n",
              "  _uploadFilesContinue,\n",
              "};\n",
              "})(self);\n",
              "</script> "
            ]
          },
          "metadata": {}
        },
        {
          "output_type": "stream",
          "name": "stdout",
          "text": [
            "Saving Crop_recommendation.csv to Crop_recommendation.csv\n"
          ]
        }
      ],
      "source": [
        "from google.colab import files\n",
        "uploaded = files.upload()"
      ]
    },
    {
      "cell_type": "markdown",
      "metadata": {
        "id": "2VHiJFZc3u0s"
      },
      "source": [
        "# **Data loading and visualising.**"
      ]
    },
    {
      "cell_type": "code",
      "execution_count": 3,
      "metadata": {
        "colab": {
          "base_uri": "https://localhost:8080/",
          "height": 206
        },
        "id": "Es7hHMYU3u0s",
        "outputId": "d866bebc-6ccd-419e-e42f-df7377fbe840"
      },
      "outputs": [
        {
          "output_type": "execute_result",
          "data": {
            "text/plain": [
              "    N   P   K  temperature   humidity        ph    rainfall label\n",
              "0  90  42  43    20.879744  82.002744  6.502985  202.935536  rice\n",
              "1  85  58  41    21.770462  80.319644  7.038096  226.655537  rice\n",
              "2  60  55  44    23.004459  82.320763  7.840207  263.964248  rice\n",
              "3  74  35  40    26.491096  80.158363  6.980401  242.864034  rice\n",
              "4  78  42  42    20.130175  81.604873  7.628473  262.717340  rice"
            ],
            "text/html": [
              "\n",
              "  <div id=\"df-505ec66c-4347-411c-b0e7-41b60d851262\">\n",
              "    <div class=\"colab-df-container\">\n",
              "      <div>\n",
              "<style scoped>\n",
              "    .dataframe tbody tr th:only-of-type {\n",
              "        vertical-align: middle;\n",
              "    }\n",
              "\n",
              "    .dataframe tbody tr th {\n",
              "        vertical-align: top;\n",
              "    }\n",
              "\n",
              "    .dataframe thead th {\n",
              "        text-align: right;\n",
              "    }\n",
              "</style>\n",
              "<table border=\"1\" class=\"dataframe\">\n",
              "  <thead>\n",
              "    <tr style=\"text-align: right;\">\n",
              "      <th></th>\n",
              "      <th>N</th>\n",
              "      <th>P</th>\n",
              "      <th>K</th>\n",
              "      <th>temperature</th>\n",
              "      <th>humidity</th>\n",
              "      <th>ph</th>\n",
              "      <th>rainfall</th>\n",
              "      <th>label</th>\n",
              "    </tr>\n",
              "  </thead>\n",
              "  <tbody>\n",
              "    <tr>\n",
              "      <th>0</th>\n",
              "      <td>90</td>\n",
              "      <td>42</td>\n",
              "      <td>43</td>\n",
              "      <td>20.879744</td>\n",
              "      <td>82.002744</td>\n",
              "      <td>6.502985</td>\n",
              "      <td>202.935536</td>\n",
              "      <td>rice</td>\n",
              "    </tr>\n",
              "    <tr>\n",
              "      <th>1</th>\n",
              "      <td>85</td>\n",
              "      <td>58</td>\n",
              "      <td>41</td>\n",
              "      <td>21.770462</td>\n",
              "      <td>80.319644</td>\n",
              "      <td>7.038096</td>\n",
              "      <td>226.655537</td>\n",
              "      <td>rice</td>\n",
              "    </tr>\n",
              "    <tr>\n",
              "      <th>2</th>\n",
              "      <td>60</td>\n",
              "      <td>55</td>\n",
              "      <td>44</td>\n",
              "      <td>23.004459</td>\n",
              "      <td>82.320763</td>\n",
              "      <td>7.840207</td>\n",
              "      <td>263.964248</td>\n",
              "      <td>rice</td>\n",
              "    </tr>\n",
              "    <tr>\n",
              "      <th>3</th>\n",
              "      <td>74</td>\n",
              "      <td>35</td>\n",
              "      <td>40</td>\n",
              "      <td>26.491096</td>\n",
              "      <td>80.158363</td>\n",
              "      <td>6.980401</td>\n",
              "      <td>242.864034</td>\n",
              "      <td>rice</td>\n",
              "    </tr>\n",
              "    <tr>\n",
              "      <th>4</th>\n",
              "      <td>78</td>\n",
              "      <td>42</td>\n",
              "      <td>42</td>\n",
              "      <td>20.130175</td>\n",
              "      <td>81.604873</td>\n",
              "      <td>7.628473</td>\n",
              "      <td>262.717340</td>\n",
              "      <td>rice</td>\n",
              "    </tr>\n",
              "  </tbody>\n",
              "</table>\n",
              "</div>\n",
              "      <button class=\"colab-df-convert\" onclick=\"convertToInteractive('df-505ec66c-4347-411c-b0e7-41b60d851262')\"\n",
              "              title=\"Convert this dataframe to an interactive table.\"\n",
              "              style=\"display:none;\">\n",
              "        \n",
              "  <svg xmlns=\"http://www.w3.org/2000/svg\" height=\"24px\"viewBox=\"0 0 24 24\"\n",
              "       width=\"24px\">\n",
              "    <path d=\"M0 0h24v24H0V0z\" fill=\"none\"/>\n",
              "    <path d=\"M18.56 5.44l.94 2.06.94-2.06 2.06-.94-2.06-.94-.94-2.06-.94 2.06-2.06.94zm-11 1L8.5 8.5l.94-2.06 2.06-.94-2.06-.94L8.5 2.5l-.94 2.06-2.06.94zm10 10l.94 2.06.94-2.06 2.06-.94-2.06-.94-.94-2.06-.94 2.06-2.06.94z\"/><path d=\"M17.41 7.96l-1.37-1.37c-.4-.4-.92-.59-1.43-.59-.52 0-1.04.2-1.43.59L10.3 9.45l-7.72 7.72c-.78.78-.78 2.05 0 2.83L4 21.41c.39.39.9.59 1.41.59.51 0 1.02-.2 1.41-.59l7.78-7.78 2.81-2.81c.8-.78.8-2.07 0-2.86zM5.41 20L4 18.59l7.72-7.72 1.47 1.35L5.41 20z\"/>\n",
              "  </svg>\n",
              "      </button>\n",
              "      \n",
              "  <style>\n",
              "    .colab-df-container {\n",
              "      display:flex;\n",
              "      flex-wrap:wrap;\n",
              "      gap: 12px;\n",
              "    }\n",
              "\n",
              "    .colab-df-convert {\n",
              "      background-color: #E8F0FE;\n",
              "      border: none;\n",
              "      border-radius: 50%;\n",
              "      cursor: pointer;\n",
              "      display: none;\n",
              "      fill: #1967D2;\n",
              "      height: 32px;\n",
              "      padding: 0 0 0 0;\n",
              "      width: 32px;\n",
              "    }\n",
              "\n",
              "    .colab-df-convert:hover {\n",
              "      background-color: #E2EBFA;\n",
              "      box-shadow: 0px 1px 2px rgba(60, 64, 67, 0.3), 0px 1px 3px 1px rgba(60, 64, 67, 0.15);\n",
              "      fill: #174EA6;\n",
              "    }\n",
              "\n",
              "    [theme=dark] .colab-df-convert {\n",
              "      background-color: #3B4455;\n",
              "      fill: #D2E3FC;\n",
              "    }\n",
              "\n",
              "    [theme=dark] .colab-df-convert:hover {\n",
              "      background-color: #434B5C;\n",
              "      box-shadow: 0px 1px 3px 1px rgba(0, 0, 0, 0.15);\n",
              "      filter: drop-shadow(0px 1px 2px rgba(0, 0, 0, 0.3));\n",
              "      fill: #FFFFFF;\n",
              "    }\n",
              "  </style>\n",
              "\n",
              "      <script>\n",
              "        const buttonEl =\n",
              "          document.querySelector('#df-505ec66c-4347-411c-b0e7-41b60d851262 button.colab-df-convert');\n",
              "        buttonEl.style.display =\n",
              "          google.colab.kernel.accessAllowed ? 'block' : 'none';\n",
              "\n",
              "        async function convertToInteractive(key) {\n",
              "          const element = document.querySelector('#df-505ec66c-4347-411c-b0e7-41b60d851262');\n",
              "          const dataTable =\n",
              "            await google.colab.kernel.invokeFunction('convertToInteractive',\n",
              "                                                     [key], {});\n",
              "          if (!dataTable) return;\n",
              "\n",
              "          const docLinkHtml = 'Like what you see? Visit the ' +\n",
              "            '<a target=\"_blank\" href=https://colab.research.google.com/notebooks/data_table.ipynb>data table notebook</a>'\n",
              "            + ' to learn more about interactive tables.';\n",
              "          element.innerHTML = '';\n",
              "          dataTable['output_type'] = 'display_data';\n",
              "          await google.colab.output.renderOutput(dataTable, element);\n",
              "          const docLink = document.createElement('div');\n",
              "          docLink.innerHTML = docLinkHtml;\n",
              "          element.appendChild(docLink);\n",
              "        }\n",
              "      </script>\n",
              "    </div>\n",
              "  </div>\n",
              "  "
            ]
          },
          "metadata": {},
          "execution_count": 3
        }
      ],
      "source": [
        "data = pd.read_csv('Crop_recommendation.csv')\n",
        "data.head()"
      ]
    },
    {
      "cell_type": "code",
      "execution_count": 4,
      "metadata": {
        "colab": {
          "base_uri": "https://localhost:8080/"
        },
        "id": "XRt5pZxZGN9p",
        "outputId": "4e867f2d-78c7-4a37-b4a7-57d89b18ae1b"
      },
      "outputs": [
        {
          "output_type": "execute_result",
          "data": {
            "text/plain": [
              "array(['rice', 'maize', 'chickpea', 'kidneybeans', 'pigeonpeas',\n",
              "       'mothbeans', 'mungbean', 'blackgram', 'lentil', 'pomegranate',\n",
              "       'banana', 'mango', 'grapes', 'watermelon', 'muskmelon', 'apple',\n",
              "       'orange', 'papaya', 'coconut', 'cotton', 'jute', 'coffee'],\n",
              "      dtype=object)"
            ]
          },
          "metadata": {},
          "execution_count": 4
        }
      ],
      "source": [
        "data['label'].unique()"
      ]
    },
    {
      "cell_type": "markdown",
      "metadata": {
        "id": "wFLSteRb3u0w"
      },
      "source": [
        "# **Dividing data into training and testing parts**"
      ]
    },
    {
      "cell_type": "code",
      "execution_count": 5,
      "metadata": {
        "colab": {
          "base_uri": "https://localhost:8080/"
        },
        "id": "sfvYX8akNSj4",
        "outputId": "427f31e3-20aa-4d03-9368-4e23c4da210a"
      },
      "outputs": [
        {
          "output_type": "execute_result",
          "data": {
            "text/plain": [
              "(array([[ 90.        ,  42.        ,  43.        , ...,  82.00274423,\n",
              "           6.50298529, 202.9355362 ],\n",
              "        [ 85.        ,  58.        ,  41.        , ...,  80.31964408,\n",
              "           7.03809636, 226.6555374 ],\n",
              "        [ 60.        ,  55.        ,  44.        , ...,  82.3207629 ,\n",
              "           7.84020714, 263.9642476 ],\n",
              "        ...,\n",
              "        [118.        ,  33.        ,  30.        , ...,  67.22512329,\n",
              "           6.36260785, 173.3228386 ],\n",
              "        [117.        ,  32.        ,  34.        , ...,  52.12739421,\n",
              "           6.75879255, 127.1752928 ],\n",
              "        [104.        ,  18.        ,  30.        , ...,  60.39647474,\n",
              "           6.77983261, 140.9370415 ]]), array([[0., 0., 0., ..., 0., 1., 0.],\n",
              "        [0., 0., 0., ..., 0., 1., 0.],\n",
              "        [0., 0., 0., ..., 0., 1., 0.],\n",
              "        ...,\n",
              "        [0., 0., 0., ..., 0., 0., 0.],\n",
              "        [0., 0., 0., ..., 0., 0., 0.],\n",
              "        [0., 0., 0., ..., 0., 0., 0.]]))"
            ]
          },
          "metadata": {},
          "execution_count": 5
        }
      ],
      "source": [
        "X = data.iloc[:, 0:-1].values # iloc is function for indexing of dataframes.\n",
        "Y = data.label.values\n",
        "\n",
        "# OneHotEncoding\n",
        "encoder = OneHotEncoder() # using encoding of class_type as this is a multi class problem.\n",
        "Y = encoder.fit_transform(Y.reshape(-1,1)).toarray() # fitting our data to encoder.\n",
        "\n",
        "X, Y"
      ]
    },
    {
      "cell_type": "code",
      "execution_count": 6,
      "metadata": {
        "id": "uHKo8qkvNWo9"
      },
      "outputs": [],
      "source": [
        "x_train, x_test, y_train, y_test = train_test_split(X, Y, random_state=0, test_size=0.2)"
      ]
    },
    {
      "cell_type": "markdown",
      "metadata": {
        "id": "DxXo8c4-KHB5"
      },
      "source": [
        "# **MLP**"
      ]
    },
    {
      "cell_type": "code",
      "execution_count": 8,
      "metadata": {
        "id": "F2Pe4XXXKL5G"
      },
      "outputs": [],
      "source": [
        "from sklearn.neural_network import MLPClassifier\n",
        "\n",
        "mlp = MLPClassifier(hidden_layer_sizes=(7,22), max_iter=1000, activation='relu')\n",
        "mlp.fit(x_train, y_train)\n",
        "pred = mlp.predict(x_test)"
      ]
    },
    {
      "cell_type": "code",
      "source": [
        "y_pred_con = mlp.predict(x_test)\n",
        "y_pred, y_correct = [], []\n",
        "\n",
        "for i in y_test:\n",
        "    y_correct.append(np.argmax(i))\n",
        "for j in y_pred_con:\n",
        "    y_pred.append(np.argmax(j))\n",
        "    \n",
        "pred_df = pd.DataFrame()\n",
        "pred_df['Pred_class'] = y_pred\n",
        "pred_df['Correct_class'] = y_correct\n",
        "pred_df"
      ],
      "metadata": {
        "colab": {
          "base_uri": "https://localhost:8080/",
          "height": 424
        },
        "id": "FqiXApQOuJQz",
        "outputId": "b9d5911d-d449-474f-c9dd-a563f8ae204d"
      },
      "execution_count": 9,
      "outputs": [
        {
          "output_type": "execute_result",
          "data": {
            "text/plain": [
              "     Pred_class  Correct_class\n",
              "0            21             21\n",
              "1            21             21\n",
              "2             7              7\n",
              "3             3              3\n",
              "4             2              2\n",
              "..          ...            ...\n",
              "435          18             18\n",
              "436           1              1\n",
              "437           6              6\n",
              "438           2              2\n",
              "439           0              0\n",
              "\n",
              "[440 rows x 2 columns]"
            ],
            "text/html": [
              "\n",
              "  <div id=\"df-1b41864c-1308-4c3e-8969-97b930fb3dd6\">\n",
              "    <div class=\"colab-df-container\">\n",
              "      <div>\n",
              "<style scoped>\n",
              "    .dataframe tbody tr th:only-of-type {\n",
              "        vertical-align: middle;\n",
              "    }\n",
              "\n",
              "    .dataframe tbody tr th {\n",
              "        vertical-align: top;\n",
              "    }\n",
              "\n",
              "    .dataframe thead th {\n",
              "        text-align: right;\n",
              "    }\n",
              "</style>\n",
              "<table border=\"1\" class=\"dataframe\">\n",
              "  <thead>\n",
              "    <tr style=\"text-align: right;\">\n",
              "      <th></th>\n",
              "      <th>Pred_class</th>\n",
              "      <th>Correct_class</th>\n",
              "    </tr>\n",
              "  </thead>\n",
              "  <tbody>\n",
              "    <tr>\n",
              "      <th>0</th>\n",
              "      <td>21</td>\n",
              "      <td>21</td>\n",
              "    </tr>\n",
              "    <tr>\n",
              "      <th>1</th>\n",
              "      <td>21</td>\n",
              "      <td>21</td>\n",
              "    </tr>\n",
              "    <tr>\n",
              "      <th>2</th>\n",
              "      <td>7</td>\n",
              "      <td>7</td>\n",
              "    </tr>\n",
              "    <tr>\n",
              "      <th>3</th>\n",
              "      <td>3</td>\n",
              "      <td>3</td>\n",
              "    </tr>\n",
              "    <tr>\n",
              "      <th>4</th>\n",
              "      <td>2</td>\n",
              "      <td>2</td>\n",
              "    </tr>\n",
              "    <tr>\n",
              "      <th>...</th>\n",
              "      <td>...</td>\n",
              "      <td>...</td>\n",
              "    </tr>\n",
              "    <tr>\n",
              "      <th>435</th>\n",
              "      <td>18</td>\n",
              "      <td>18</td>\n",
              "    </tr>\n",
              "    <tr>\n",
              "      <th>436</th>\n",
              "      <td>1</td>\n",
              "      <td>1</td>\n",
              "    </tr>\n",
              "    <tr>\n",
              "      <th>437</th>\n",
              "      <td>6</td>\n",
              "      <td>6</td>\n",
              "    </tr>\n",
              "    <tr>\n",
              "      <th>438</th>\n",
              "      <td>2</td>\n",
              "      <td>2</td>\n",
              "    </tr>\n",
              "    <tr>\n",
              "      <th>439</th>\n",
              "      <td>0</td>\n",
              "      <td>0</td>\n",
              "    </tr>\n",
              "  </tbody>\n",
              "</table>\n",
              "<p>440 rows × 2 columns</p>\n",
              "</div>\n",
              "      <button class=\"colab-df-convert\" onclick=\"convertToInteractive('df-1b41864c-1308-4c3e-8969-97b930fb3dd6')\"\n",
              "              title=\"Convert this dataframe to an interactive table.\"\n",
              "              style=\"display:none;\">\n",
              "        \n",
              "  <svg xmlns=\"http://www.w3.org/2000/svg\" height=\"24px\"viewBox=\"0 0 24 24\"\n",
              "       width=\"24px\">\n",
              "    <path d=\"M0 0h24v24H0V0z\" fill=\"none\"/>\n",
              "    <path d=\"M18.56 5.44l.94 2.06.94-2.06 2.06-.94-2.06-.94-.94-2.06-.94 2.06-2.06.94zm-11 1L8.5 8.5l.94-2.06 2.06-.94-2.06-.94L8.5 2.5l-.94 2.06-2.06.94zm10 10l.94 2.06.94-2.06 2.06-.94-2.06-.94-.94-2.06-.94 2.06-2.06.94z\"/><path d=\"M17.41 7.96l-1.37-1.37c-.4-.4-.92-.59-1.43-.59-.52 0-1.04.2-1.43.59L10.3 9.45l-7.72 7.72c-.78.78-.78 2.05 0 2.83L4 21.41c.39.39.9.59 1.41.59.51 0 1.02-.2 1.41-.59l7.78-7.78 2.81-2.81c.8-.78.8-2.07 0-2.86zM5.41 20L4 18.59l7.72-7.72 1.47 1.35L5.41 20z\"/>\n",
              "  </svg>\n",
              "      </button>\n",
              "      \n",
              "  <style>\n",
              "    .colab-df-container {\n",
              "      display:flex;\n",
              "      flex-wrap:wrap;\n",
              "      gap: 12px;\n",
              "    }\n",
              "\n",
              "    .colab-df-convert {\n",
              "      background-color: #E8F0FE;\n",
              "      border: none;\n",
              "      border-radius: 50%;\n",
              "      cursor: pointer;\n",
              "      display: none;\n",
              "      fill: #1967D2;\n",
              "      height: 32px;\n",
              "      padding: 0 0 0 0;\n",
              "      width: 32px;\n",
              "    }\n",
              "\n",
              "    .colab-df-convert:hover {\n",
              "      background-color: #E2EBFA;\n",
              "      box-shadow: 0px 1px 2px rgba(60, 64, 67, 0.3), 0px 1px 3px 1px rgba(60, 64, 67, 0.15);\n",
              "      fill: #174EA6;\n",
              "    }\n",
              "\n",
              "    [theme=dark] .colab-df-convert {\n",
              "      background-color: #3B4455;\n",
              "      fill: #D2E3FC;\n",
              "    }\n",
              "\n",
              "    [theme=dark] .colab-df-convert:hover {\n",
              "      background-color: #434B5C;\n",
              "      box-shadow: 0px 1px 3px 1px rgba(0, 0, 0, 0.15);\n",
              "      filter: drop-shadow(0px 1px 2px rgba(0, 0, 0, 0.3));\n",
              "      fill: #FFFFFF;\n",
              "    }\n",
              "  </style>\n",
              "\n",
              "      <script>\n",
              "        const buttonEl =\n",
              "          document.querySelector('#df-1b41864c-1308-4c3e-8969-97b930fb3dd6 button.colab-df-convert');\n",
              "        buttonEl.style.display =\n",
              "          google.colab.kernel.accessAllowed ? 'block' : 'none';\n",
              "\n",
              "        async function convertToInteractive(key) {\n",
              "          const element = document.querySelector('#df-1b41864c-1308-4c3e-8969-97b930fb3dd6');\n",
              "          const dataTable =\n",
              "            await google.colab.kernel.invokeFunction('convertToInteractive',\n",
              "                                                     [key], {});\n",
              "          if (!dataTable) return;\n",
              "\n",
              "          const docLinkHtml = 'Like what you see? Visit the ' +\n",
              "            '<a target=\"_blank\" href=https://colab.research.google.com/notebooks/data_table.ipynb>data table notebook</a>'\n",
              "            + ' to learn more about interactive tables.';\n",
              "          element.innerHTML = '';\n",
              "          dataTable['output_type'] = 'display_data';\n",
              "          await google.colab.output.renderOutput(dataTable, element);\n",
              "          const docLink = document.createElement('div');\n",
              "          docLink.innerHTML = docLinkHtml;\n",
              "          element.appendChild(docLink);\n",
              "        }\n",
              "      </script>\n",
              "    </div>\n",
              "  </div>\n",
              "  "
            ]
          },
          "metadata": {},
          "execution_count": 9
        }
      ]
    },
    {
      "cell_type": "code",
      "source": [
        "import seaborn as sns\n",
        "from sklearn.metrics import classification_report, confusion_matrix\n",
        "from sklearn import metrics\n",
        "import tensorflow as tf\n",
        "print(classification_report(y_pred, y_correct))\n",
        "cm = tf.math.confusion_matrix(y_pred, y_correct)\n",
        "\n",
        "plt.figure(figsize=(7,6))\n",
        "sns.heatmap(cm, annot=True, fmt='d')\n",
        "plt.xlabel('Predicted')\n",
        "plt.ylabel('Truth')"
      ],
      "metadata": {
        "colab": {
          "base_uri": "https://localhost:8080/",
          "height": 909
        },
        "id": "4d8RmtJIuAbd",
        "outputId": "a11cbedd-2196-43bc-f02a-401f03c384b2"
      },
      "execution_count": 10,
      "outputs": [
        {
          "output_type": "stream",
          "name": "stdout",
          "text": [
            "              precision    recall  f1-score   support\n",
            "\n",
            "           0       1.00      0.33      0.49        55\n",
            "           1       1.00      0.90      0.95        20\n",
            "           2       0.82      0.82      0.82        22\n",
            "           3       1.00      1.00      1.00        23\n",
            "           4       0.87      0.87      0.87        15\n",
            "           5       0.94      0.94      0.94        17\n",
            "           6       1.00      0.84      0.91        19\n",
            "           7       1.00      1.00      1.00        18\n",
            "           8       0.62      0.62      0.62        21\n",
            "           9       0.90      0.75      0.82        24\n",
            "          10       0.94      0.94      0.94        17\n",
            "          11       0.72      1.00      0.84        13\n",
            "          12       1.00      1.00      1.00        21\n",
            "          13       0.56      0.88      0.68        16\n",
            "          14       0.94      1.00      0.97        16\n",
            "          15       1.00      1.00      1.00        23\n",
            "          16       0.91      1.00      0.95        21\n",
            "          17       0.48      0.91      0.62        11\n",
            "          18       0.59      0.87      0.70        15\n",
            "          19       0.91      0.95      0.93        22\n",
            "          20       0.52      0.93      0.67        14\n",
            "          21       1.00      1.00      1.00        17\n",
            "\n",
            "    accuracy                           0.84       440\n",
            "   macro avg       0.85      0.89      0.85       440\n",
            "weighted avg       0.88      0.84      0.83       440\n",
            "\n"
          ]
        },
        {
          "output_type": "execute_result",
          "data": {
            "text/plain": [
              "Text(42.0, 0.5, 'Truth')"
            ]
          },
          "metadata": {},
          "execution_count": 10
        },
        {
          "output_type": "display_data",
          "data": {
            "text/plain": [
              "<Figure size 504x432 with 2 Axes>"
            ],
            "image/png": "[encoded data removed]"
          },
          "metadata": {
            "needs_background": "light"
          }
        }
      ]
    },
    {
      "cell_type": "code",
      "source": [
        "plt.scatter(y_pred, y_correct)\n",
        "plt.show()"
      ],
      "metadata": {
        "colab": {
          "base_uri": "https://localhost:8080/",
          "height": 265
        },
        "id": "hZj3WVCKgITy",
        "outputId": "0d2c00cb-1bc6-41fd-b359-5754521ea9a6"
      },
      "execution_count": 11,
      "outputs": [
        {
          "output_type": "display_data",
          "data": {
            "text/plain": [
              "<Figure size 432x288 with 1 Axes>"
            ],
            "image/png": "[encoded data removed]"
          },
          "metadata": {
            "needs_background": "light"
          }
        }
      ]
    },
    {
      "cell_type": "code",
      "source": [
        "from sklearn.metrics import f1_score, accuracy_score, precision_score, recall_score\n",
        "from sklearn.metrics import mean_absolute_error, max_error, mean_squared_error, mean_absolute_percentage_error\n",
        "print(accuracy_score(y_pred, y_correct))\n",
        "print(mean_absolute_error(y_pred, y_correct))\n",
        "print(mean_squared_error(y_pred, y_correct))\n",
        "print(max_error(y_pred, y_correct))"
      ],
      "metadata": {
        "id": "AuuCDc-yXHs7",
        "colab": {
          "base_uri": "https://localhost:8080/"
        },
        "outputId": "9e4e25fa-7021-464b-a0e8-3105534b750b"
      },
      "execution_count": 13,
      "outputs": [
        {
          "output_type": "stream",
          "name": "stdout",
          "text": [
            "0.8386363636363636\n",
            "1.7659090909090909\n",
            "23.615909090909092\n",
            "20\n"
          ]
        }
      ]
    },
    {
      "cell_type": "markdown",
      "metadata": {
        "id": "gurXKf-w3u0x"
      },
      "source": [
        "# **Creating ANN Model**"
      ]
    },
    {
      "cell_type": "code",
      "execution_count": 14,
      "metadata": {
        "id": "VCl3zXH33u0y"
      },
      "outputs": [],
      "source": [
        "# creating model\n",
        "model = Sequential()\n",
        "\n",
        "# adding hidden layers with number of units and activation function.\n",
        "model.add(Dense(units = 64, activation = 'relu', input_dim = 7)) #hiddenlayer1 with and extra parameter input dimensions which is 16 in out case that is no. of features in training data.\n",
        "model.add(Dense(units = 32, activation = 'relu')) #hiddenlayer2\n",
        "model.add(Dense(units = 22, activation = 'sigmoid')) #outputlayer\n",
        "\n",
        "# compiling our model.\n",
        "model.compile(loss='categorical_crossentropy', optimizer='Adam', metrics=['accuracy']) #metrics are the list of parameters on which we test our model like accuracy."
      ]
    },
    {
      "cell_type": "code",
      "execution_count": 15,
      "metadata": {
        "colab": {
          "base_uri": "https://localhost:8080/"
        },
        "id": "BZwzAADw3u0y",
        "outputId": "6a965c59-ab0f-47a8-c504-b7d61c1f33ec"
      },
      "outputs": [
        {
          "output_type": "stream",
          "name": "stdout",
          "text": [
            "Epoch 1/40\n",
            "220/220 [==============================] - 6s 7ms/step - loss: 6.2204 - accuracy: 0.3466 - val_loss: 1.2802 - val_accuracy: 0.6000\n",
            "Epoch 2/40\n",
            "220/220 [==============================] - 1s 5ms/step - loss: 0.7812 - accuracy: 0.7670 - val_loss: 0.5868 - val_accuracy: 0.7977\n",
            "Epoch 3/40\n",
            "220/220 [==============================] - 1s 3ms/step - loss: 0.4507 - accuracy: 0.8625 - val_loss: 0.4435 - val_accuracy: 0.8636\n",
            "Epoch 4/40\n",
            "220/220 [==============================] - 1s 3ms/step - loss: 0.3664 - accuracy: 0.8716 - val_loss: 0.3597 - val_accuracy: 0.8727\n",
            "Epoch 5/40\n",
            "220/220 [==============================] - 1s 3ms/step - loss: 0.3026 - accuracy: 0.8949 - val_loss: 0.3294 - val_accuracy: 0.8705\n",
            "Epoch 6/40\n",
            "220/220 [==============================] - 1s 3ms/step - loss: 0.2752 - accuracy: 0.9023 - val_loss: 0.3060 - val_accuracy: 0.8909\n",
            "Epoch 7/40\n",
            "220/220 [==============================] - 1s 3ms/step - loss: 0.2445 - accuracy: 0.9199 - val_loss: 0.1865 - val_accuracy: 0.9273\n",
            "Epoch 8/40\n",
            "220/220 [==============================] - 1s 3ms/step - loss: 0.2161 - accuracy: 0.9239 - val_loss: 0.1923 - val_accuracy: 0.9273\n",
            "Epoch 9/40\n",
            "220/220 [==============================] - 1s 3ms/step - loss: 0.2027 - accuracy: 0.9278 - val_loss: 0.4868 - val_accuracy: 0.8568\n",
            "Epoch 10/40\n",
            "220/220 [==============================] - 1s 3ms/step - loss: 0.1986 - accuracy: 0.9341 - val_loss: 0.1806 - val_accuracy: 0.9318\n",
            "Epoch 11/40\n",
            "220/220 [==============================] - 1s 3ms/step - loss: 0.1824 - accuracy: 0.9369 - val_loss: 0.1670 - val_accuracy: 0.9364\n",
            "Epoch 12/40\n",
            "220/220 [==============================] - 1s 3ms/step - loss: 0.1901 - accuracy: 0.9307 - val_loss: 0.1649 - val_accuracy: 0.9318\n",
            "Epoch 13/40\n",
            "220/220 [==============================] - 1s 3ms/step - loss: 0.1594 - accuracy: 0.9426 - val_loss: 0.1597 - val_accuracy: 0.9500\n",
            "Epoch 14/40\n",
            "220/220 [==============================] - 1s 3ms/step - loss: 0.1666 - accuracy: 0.9375 - val_loss: 0.1230 - val_accuracy: 0.9591\n",
            "Epoch 15/40\n",
            "220/220 [==============================] - 1s 3ms/step - loss: 0.1312 - accuracy: 0.9494 - val_loss: 0.2002 - val_accuracy: 0.9250\n",
            "Epoch 16/40\n",
            "220/220 [==============================] - 1s 3ms/step - loss: 0.1448 - accuracy: 0.9432 - val_loss: 0.1543 - val_accuracy: 0.9500\n",
            "Epoch 17/40\n",
            "220/220 [==============================] - 1s 3ms/step - loss: 0.1359 - accuracy: 0.9472 - val_loss: 0.1447 - val_accuracy: 0.9364\n",
            "Epoch 18/40\n",
            "220/220 [==============================] - 1s 3ms/step - loss: 0.1423 - accuracy: 0.9426 - val_loss: 0.1955 - val_accuracy: 0.9386\n",
            "Epoch 19/40\n",
            "220/220 [==============================] - 1s 3ms/step - loss: 0.1731 - accuracy: 0.9398 - val_loss: 0.1361 - val_accuracy: 0.9500\n",
            "Epoch 20/40\n",
            "220/220 [==============================] - 1s 3ms/step - loss: 0.1331 - accuracy: 0.9466 - val_loss: 0.2495 - val_accuracy: 0.9295\n",
            "Epoch 21/40\n",
            "220/220 [==============================] - 1s 3ms/step - loss: 0.1528 - accuracy: 0.9483 - val_loss: 0.0988 - val_accuracy: 0.9773\n",
            "Epoch 22/40\n",
            "220/220 [==============================] - 1s 3ms/step - loss: 0.1295 - accuracy: 0.9557 - val_loss: 0.1880 - val_accuracy: 0.9364\n",
            "Epoch 23/40\n",
            "220/220 [==============================] - 1s 3ms/step - loss: 0.1317 - accuracy: 0.9523 - val_loss: 0.1616 - val_accuracy: 0.9386\n",
            "Epoch 24/40\n",
            "220/220 [==============================] - 1s 3ms/step - loss: 0.1355 - accuracy: 0.9438 - val_loss: 0.0879 - val_accuracy: 0.9705\n",
            "Epoch 25/40\n",
            "220/220 [==============================] - 1s 3ms/step - loss: 0.1398 - accuracy: 0.9483 - val_loss: 0.1450 - val_accuracy: 0.9500\n",
            "Epoch 26/40\n",
            "220/220 [==============================] - 1s 3ms/step - loss: 0.1482 - accuracy: 0.9398 - val_loss: 0.1185 - val_accuracy: 0.9545\n",
            "Epoch 27/40\n",
            "220/220 [==============================] - 1s 3ms/step - loss: 0.1175 - accuracy: 0.9545 - val_loss: 0.1724 - val_accuracy: 0.9364\n",
            "Epoch 28/40\n",
            "220/220 [==============================] - 1s 3ms/step - loss: 0.1101 - accuracy: 0.9580 - val_loss: 0.1438 - val_accuracy: 0.9477\n",
            "Epoch 29/40\n",
            "220/220 [==============================] - 1s 3ms/step - loss: 0.1109 - accuracy: 0.9528 - val_loss: 0.1971 - val_accuracy: 0.9341\n",
            "Epoch 30/40\n",
            "220/220 [==============================] - 1s 3ms/step - loss: 0.0918 - accuracy: 0.9636 - val_loss: 0.1539 - val_accuracy: 0.9455\n",
            "Epoch 31/40\n",
            "220/220 [==============================] - 1s 3ms/step - loss: 0.1135 - accuracy: 0.9563 - val_loss: 0.1681 - val_accuracy: 0.9386\n",
            "Epoch 32/40\n",
            "220/220 [==============================] - 1s 3ms/step - loss: 0.1057 - accuracy: 0.9568 - val_loss: 0.1224 - val_accuracy: 0.9432\n",
            "Epoch 33/40\n",
            "220/220 [==============================] - 1s 3ms/step - loss: 0.1295 - accuracy: 0.9545 - val_loss: 0.1767 - val_accuracy: 0.9364\n",
            "Epoch 34/40\n",
            "220/220 [==============================] - 1s 3ms/step - loss: 0.1486 - accuracy: 0.9500 - val_loss: 0.1128 - val_accuracy: 0.9568\n",
            "Epoch 35/40\n",
            "220/220 [==============================] - 1s 3ms/step - loss: 0.0991 - accuracy: 0.9631 - val_loss: 0.1704 - val_accuracy: 0.9409\n",
            "Epoch 36/40\n",
            "220/220 [==============================] - 1s 3ms/step - loss: 0.1091 - accuracy: 0.9591 - val_loss: 0.1497 - val_accuracy: 0.9364\n",
            "Epoch 37/40\n",
            "220/220 [==============================] - 1s 3ms/step - loss: 0.1029 - accuracy: 0.9614 - val_loss: 0.1184 - val_accuracy: 0.9591\n",
            "Epoch 38/40\n",
            "220/220 [==============================] - 1s 3ms/step - loss: 0.1050 - accuracy: 0.9585 - val_loss: 0.1033 - val_accuracy: 0.9682\n",
            "Epoch 39/40\n",
            "220/220 [==============================] - 1s 3ms/step - loss: 0.1101 - accuracy: 0.9597 - val_loss: 0.1077 - val_accuracy: 0.9568\n",
            "Epoch 40/40\n",
            "220/220 [==============================] - 1s 3ms/step - loss: 0.0917 - accuracy: 0.9636 - val_loss: 0.1195 - val_accuracy: 0.9545\n"
          ]
        },
        {
          "output_type": "execute_result",
          "data": {
            "text/plain": [
              "<keras.callbacks.History at 0x7fabfacc0890>"
            ]
          },
          "metadata": {},
          "execution_count": 15
        }
      ],
      "source": [
        "# fitting data to train our model and then validating score with validation_data.\n",
        "model.fit(x_train, y_train, epochs=40, batch_size=8, validation_data=(x_test, y_test))"
      ]
    },
    {
      "cell_type": "code",
      "execution_count": 16,
      "metadata": {
        "colab": {
          "base_uri": "https://localhost:8080/"
        },
        "id": "W4Yu907t3u0z",
        "outputId": "d5cab168-7702-4cd2-d71b-189bd6f6bed7"
      },
      "outputs": [
        {
          "output_type": "stream",
          "name": "stdout",
          "text": [
            "14/14 [==============================] - 0s 3ms/step - loss: 0.1195 - accuracy: 0.9545\n",
            "0.9545454382896423\n"
          ]
        }
      ],
      "source": [
        "# printing score with evaluate\n",
        "print(model.evaluate(x_test, y_test)[1])"
      ]
    },
    {
      "cell_type": "code",
      "execution_count": 17,
      "metadata": {
        "colab": {
          "base_uri": "https://localhost:8080/",
          "height": 424
        },
        "id": "kVfQodh93u0z",
        "outputId": "793a14c3-53b9-46dc-97c3-fd386885e3b3"
      },
      "outputs": [
        {
          "output_type": "execute_result",
          "data": {
            "text/plain": [
              "     Pred_class  Correct_class\n",
              "0            21             21\n",
              "1            21             21\n",
              "2             0              7\n",
              "3             3              3\n",
              "4             2              2\n",
              "..          ...            ...\n",
              "435          18             18\n",
              "436           1              1\n",
              "437           6              6\n",
              "438           2              2\n",
              "439           0              0\n",
              "\n",
              "[440 rows x 2 columns]"
            ],
            "text/html": [
              "\n",
              "  <div id=\"df-6547308f-3b02-4397-9ceb-550b962a8d68\">\n",
              "    <div class=\"colab-df-container\">\n",
              "      <div>\n",
              "<style scoped>\n",
              "    .dataframe tbody tr th:only-of-type {\n",
              "        vertical-align: middle;\n",
              "    }\n",
              "\n",
              "    .dataframe tbody tr th {\n",
              "        vertical-align: top;\n",
              "    }\n",
              "\n",
              "    .dataframe thead th {\n",
              "        text-align: right;\n",
              "    }\n",
              "</style>\n",
              "<table border=\"1\" class=\"dataframe\">\n",
              "  <thead>\n",
              "    <tr style=\"text-align: right;\">\n",
              "      <th></th>\n",
              "      <th>Pred_class</th>\n",
              "      <th>Correct_class</th>\n",
              "    </tr>\n",
              "  </thead>\n",
              "  <tbody>\n",
              "    <tr>\n",
              "      <th>0</th>\n",
              "      <td>21</td>\n",
              "      <td>21</td>\n",
              "    </tr>\n",
              "    <tr>\n",
              "      <th>1</th>\n",
              "      <td>21</td>\n",
              "      <td>21</td>\n",
              "    </tr>\n",
              "    <tr>\n",
              "      <th>2</th>\n",
              "      <td>0</td>\n",
              "      <td>7</td>\n",
              "    </tr>\n",
              "    <tr>\n",
              "      <th>3</th>\n",
              "      <td>3</td>\n",
              "      <td>3</td>\n",
              "    </tr>\n",
              "    <tr>\n",
              "      <th>4</th>\n",
              "      <td>2</td>\n",
              "      <td>2</td>\n",
              "    </tr>\n",
              "    <tr>\n",
              "      <th>...</th>\n",
              "      <td>...</td>\n",
              "      <td>...</td>\n",
              "    </tr>\n",
              "    <tr>\n",
              "      <th>435</th>\n",
              "      <td>18</td>\n",
              "      <td>18</td>\n",
              "    </tr>\n",
              "    <tr>\n",
              "      <th>436</th>\n",
              "      <td>1</td>\n",
              "      <td>1</td>\n",
              "    </tr>\n",
              "    <tr>\n",
              "      <th>437</th>\n",
              "      <td>6</td>\n",
              "      <td>6</td>\n",
              "    </tr>\n",
              "    <tr>\n",
              "      <th>438</th>\n",
              "      <td>2</td>\n",
              "      <td>2</td>\n",
              "    </tr>\n",
              "    <tr>\n",
              "      <th>439</th>\n",
              "      <td>0</td>\n",
              "      <td>0</td>\n",
              "    </tr>\n",
              "  </tbody>\n",
              "</table>\n",
              "<p>440 rows × 2 columns</p>\n",
              "</div>\n",
              "      <button class=\"colab-df-convert\" onclick=\"convertToInteractive('df-6547308f-3b02-4397-9ceb-550b962a8d68')\"\n",
              "              title=\"Convert this dataframe to an interactive table.\"\n",
              "              style=\"display:none;\">\n",
              "        \n",
              "  <svg xmlns=\"http://www.w3.org/2000/svg\" height=\"24px\"viewBox=\"0 0 24 24\"\n",
              "       width=\"24px\">\n",
              "    <path d=\"M0 0h24v24H0V0z\" fill=\"none\"/>\n",
              "    <path d=\"M18.56 5.44l.94 2.06.94-2.06 2.06-.94-2.06-.94-.94-2.06-.94 2.06-2.06.94zm-11 1L8.5 8.5l.94-2.06 2.06-.94-2.06-.94L8.5 2.5l-.94 2.06-2.06.94zm10 10l.94 2.06.94-2.06 2.06-.94-2.06-.94-.94-2.06-.94 2.06-2.06.94z\"/><path d=\"M17.41 7.96l-1.37-1.37c-.4-.4-.92-.59-1.43-.59-.52 0-1.04.2-1.43.59L10.3 9.45l-7.72 7.72c-.78.78-.78 2.05 0 2.83L4 21.41c.39.39.9.59 1.41.59.51 0 1.02-.2 1.41-.59l7.78-7.78 2.81-2.81c.8-.78.8-2.07 0-2.86zM5.41 20L4 18.59l7.72-7.72 1.47 1.35L5.41 20z\"/>\n",
              "  </svg>\n",
              "      </button>\n",
              "      \n",
              "  <style>\n",
              "    .colab-df-container {\n",
              "      display:flex;\n",
              "      flex-wrap:wrap;\n",
              "      gap: 12px;\n",
              "    }\n",
              "\n",
              "    .colab-df-convert {\n",
              "      background-color: #E8F0FE;\n",
              "      border: none;\n",
              "      border-radius: 50%;\n",
              "      cursor: pointer;\n",
              "      display: none;\n",
              "      fill: #1967D2;\n",
              "      height: 32px;\n",
              "      padding: 0 0 0 0;\n",
              "      width: 32px;\n",
              "    }\n",
              "\n",
              "    .colab-df-convert:hover {\n",
              "      background-color: #E2EBFA;\n",
              "      box-shadow: 0px 1px 2px rgba(60, 64, 67, 0.3), 0px 1px 3px 1px rgba(60, 64, 67, 0.15);\n",
              "      fill: #174EA6;\n",
              "    }\n",
              "\n",
              "    [theme=dark] .colab-df-convert {\n",
              "      background-color: #3B4455;\n",
              "      fill: #D2E3FC;\n",
              "    }\n",
              "\n",
              "    [theme=dark] .colab-df-convert:hover {\n",
              "      background-color: #434B5C;\n",
              "      box-shadow: 0px 1px 3px 1px rgba(0, 0, 0, 0.15);\n",
              "      filter: drop-shadow(0px 1px 2px rgba(0, 0, 0, 0.3));\n",
              "      fill: #FFFFFF;\n",
              "    }\n",
              "  </style>\n",
              "\n",
              "      <script>\n",
              "        const buttonEl =\n",
              "          document.querySelector('#df-6547308f-3b02-4397-9ceb-550b962a8d68 button.colab-df-convert');\n",
              "        buttonEl.style.display =\n",
              "          google.colab.kernel.accessAllowed ? 'block' : 'none';\n",
              "\n",
              "        async function convertToInteractive(key) {\n",
              "          const element = document.querySelector('#df-6547308f-3b02-4397-9ceb-550b962a8d68');\n",
              "          const dataTable =\n",
              "            await google.colab.kernel.invokeFunction('convertToInteractive',\n",
              "                                                     [key], {});\n",
              "          if (!dataTable) return;\n",
              "\n",
              "          const docLinkHtml = 'Like what you see? Visit the ' +\n",
              "            '<a target=\"_blank\" href=https://colab.research.google.com/notebooks/data_table.ipynb>data table notebook</a>'\n",
              "            + ' to learn more about interactive tables.';\n",
              "          element.innerHTML = '';\n",
              "          dataTable['output_type'] = 'display_data';\n",
              "          await google.colab.output.renderOutput(dataTable, element);\n",
              "          const docLink = document.createElement('div');\n",
              "          docLink.innerHTML = docLinkHtml;\n",
              "          element.appendChild(docLink);\n",
              "        }\n",
              "      </script>\n",
              "    </div>\n",
              "  </div>\n",
              "  "
            ]
          },
          "metadata": {},
          "execution_count": 17
        }
      ],
      "source": [
        "y_pred_con = model.predict(x_test)\n",
        "y_pred, y_correct = [], []\n",
        "\n",
        "for i in y_test:\n",
        "    y_correct.append(np.argmax(i))\n",
        "for j in y_pred_con:\n",
        "    y_pred.append(np.argmax(j))\n",
        "    \n",
        "pred_df = pd.DataFrame()\n",
        "pred_df['Pred_class'] = y_pred\n",
        "pred_df['Correct_class'] = y_correct\n",
        "pred_df"
      ]
    },
    {
      "cell_type": "code",
      "source": [
        "import seaborn as sns\n",
        "from sklearn.metrics import classification_report, confusion_matrix\n",
        "from sklearn import metrics\n",
        "import tensorflow as tf\n",
        "print(classification_report(y_pred, y_correct))\n",
        "cm = tf.math.confusion_matrix(y_pred, y_correct)\n",
        "\n",
        "plt.figure(figsize=(7,6))\n",
        "sns.heatmap(cm, annot=True, fmt='d')\n",
        "plt.xlabel('Predicted')\n",
        "plt.ylabel('Truth')"
      ],
      "metadata": {
        "colab": {
          "base_uri": "https://localhost:8080/",
          "height": 909
        },
        "id": "sFZpB218Zqkc",
        "outputId": "09cf3bf8-c001-41e3-d58b-4c23625bacdb"
      },
      "execution_count": 19,
      "outputs": [
        {
          "output_type": "stream",
          "name": "stdout",
          "text": [
            "              precision    recall  f1-score   support\n",
            "\n",
            "           0       1.00      0.69      0.82        26\n",
            "           1       1.00      1.00      1.00        18\n",
            "           2       0.86      0.95      0.90        20\n",
            "           3       1.00      1.00      1.00        23\n",
            "           4       1.00      0.83      0.91        18\n",
            "           5       1.00      1.00      1.00        17\n",
            "           6       1.00      0.89      0.94        18\n",
            "           7       0.56      1.00      0.71        10\n",
            "           8       1.00      0.72      0.84        29\n",
            "           9       1.00      0.87      0.93        23\n",
            "          10       1.00      0.94      0.97        18\n",
            "          11       0.89      1.00      0.94        16\n",
            "          12       1.00      0.88      0.93        24\n",
            "          13       0.96      0.89      0.92        27\n",
            "          14       1.00      1.00      1.00        17\n",
            "          15       1.00      1.00      1.00        23\n",
            "          16       0.87      1.00      0.93        20\n",
            "          17       0.90      1.00      0.95        19\n",
            "          18       0.77      1.00      0.87        17\n",
            "          19       1.00      1.00      1.00        23\n",
            "          20       0.68      1.00      0.81        17\n",
            "          21       1.00      1.00      1.00        17\n",
            "\n",
            "    accuracy                           0.93       440\n",
            "   macro avg       0.93      0.94      0.93       440\n",
            "weighted avg       0.95      0.93      0.93       440\n",
            "\n"
          ]
        },
        {
          "output_type": "execute_result",
          "data": {
            "text/plain": [
              "Text(42.0, 0.5, 'Truth')"
            ]
          },
          "metadata": {},
          "execution_count": 19
        },
        {
          "output_type": "display_data",
          "data": {
            "text/plain": [
              "<Figure size 504x432 with 2 Axes>"
            ],
            "image/png": "[encoded data removed]"
          },
          "metadata": {
            "needs_background": "light"
          }
        }
      ]
    },
    {
      "cell_type": "code",
      "source": [
        "plt.scatter(y_pred, y_correct)\n",
        "plt.show()"
      ],
      "metadata": {
        "colab": {
          "base_uri": "https://localhost:8080/",
          "height": 265
        },
        "id": "hYSWoSp0gcTu",
        "outputId": "d568c47e-f15b-4faa-c0de-df41e28fcbbd"
      },
      "execution_count": 20,
      "outputs": [
        {
          "output_type": "display_data",
          "data": {
            "text/plain": [
              "<Figure size 432x288 with 1 Axes>"
            ],
            "image/png": "[encoded data removed]"
          },
          "metadata": {
            "needs_background": "light"
          }
        }
      ]
    },
    {
      "cell_type": "code",
      "source": [
        "from sklearn.metrics import f1_score, accuracy_score, precision_score, recall_score\n",
        "from sklearn.metrics import mean_absolute_error, max_error, mean_squared_error, mean_absolute_percentage_error\n",
        "print(accuracy_score(y_pred, y_correct))\n",
        "print(mean_absolute_error(y_pred, y_correct))\n",
        "print(mean_squared_error(y_pred, y_correct))\n",
        "print(max_error(y_pred, y_correct))"
      ],
      "metadata": {
        "colab": {
          "base_uri": "https://localhost:8080/"
        },
        "id": "NZhm775rZlrr",
        "outputId": "8f07637d-c950-45bf-c3ab-0e2c8b3f17df"
      },
      "execution_count": 21,
      "outputs": [
        {
          "output_type": "stream",
          "name": "stdout",
          "text": [
            "0.9272727272727272\n",
            "0.6522727272727272\n",
            "6.379545454545455\n",
            "12\n"
          ]
        }
      ]
    },
    {
      "cell_type": "markdown",
      "metadata": {
        "id": "TXCvGMZ6NkEQ"
      },
      "source": [
        "# **CREATING RNN MODEL**"
      ]
    },
    {
      "cell_type": "code",
      "execution_count": 22,
      "metadata": {
        "id": "lGvK9oZS3u0z",
        "colab": {
          "base_uri": "https://localhost:8080/"
        },
        "outputId": "e84f6def-8d88-4c85-d826-b6e727a64204"
      },
      "outputs": [
        {
          "output_type": "stream",
          "name": "stderr",
          "text": [
            "WARNING:tensorflow:Layer lstm will not use cuDNN kernels since it doesn't meet the criteria. It will use a generic GPU kernel as fallback when running on GPU.\n"
          ]
        }
      ],
      "source": [
        "from keras.layers import Flatten\n",
        "model = Sequential()\n",
        "\n",
        "# adding hidden layers with number of units and activation function.\n",
        "model.add(LSTM(units = 64, activation = 'relu',input_shape=(7,1))) #hiddenlayer1 with and extra parameter input dimensions which is 16 in out case that is no. of features in training data.\n",
        "model.add(Flatten())\n",
        "model.add(Dense(units = 32, activation = 'relu')) #hiddenlayer2\n",
        "model.add(Dense(units = 22, activation = 'sigmoid')) #outputlayer\n",
        "\n",
        "# compiling our model.\n",
        "model.compile(loss='categorical_crossentropy', optimizer='Adam', metrics=['accuracy']) #metrics are the list of parameters on which we test our model like accuracy."
      ]
    },
    {
      "cell_type": "code",
      "source": [
        "# fitting data to train our model and then validating score with validation_data.\n",
        "model.fit(x_train, y_train, epochs=40, batch_size=8, validation_data=(x_test, y_test))"
      ],
      "metadata": {
        "colab": {
          "base_uri": "https://localhost:8080/"
        },
        "id": "Gm7yQ55Xs-lr",
        "outputId": "84f4b6c8-a05d-4ce8-f51e-e890bf4d8bd2"
      },
      "execution_count": 23,
      "outputs": [
        {
          "output_type": "stream",
          "name": "stdout",
          "text": [
            "Epoch 1/40\n",
            "220/220 [==============================] - 3s 9ms/step - loss: 2.1478 - accuracy: 0.3852 - val_loss: 0.9191 - val_accuracy: 0.6750\n",
            "Epoch 2/40\n",
            "220/220 [==============================] - 2s 8ms/step - loss: 0.5465 - accuracy: 0.8119 - val_loss: 0.2803 - val_accuracy: 0.9182\n",
            "Epoch 3/40\n",
            "220/220 [==============================] - 2s 8ms/step - loss: 0.3239 - accuracy: 0.8824 - val_loss: 0.1803 - val_accuracy: 0.9455\n",
            "Epoch 4/40\n",
            "220/220 [==============================] - 2s 8ms/step - loss: 0.2442 - accuracy: 0.9108 - val_loss: 0.1503 - val_accuracy: 0.9477\n",
            "Epoch 5/40\n",
            "220/220 [==============================] - 2s 9ms/step - loss: 0.1808 - accuracy: 0.9369 - val_loss: 0.2357 - val_accuracy: 0.9045\n",
            "Epoch 6/40\n",
            "220/220 [==============================] - 2s 8ms/step - loss: 0.1926 - accuracy: 0.9335 - val_loss: 0.4768 - val_accuracy: 0.8818\n",
            "Epoch 7/40\n",
            "220/220 [==============================] - 2s 8ms/step - loss: 0.1325 - accuracy: 0.9517 - val_loss: 0.1469 - val_accuracy: 0.9432\n",
            "Epoch 8/40\n",
            "220/220 [==============================] - 2s 8ms/step - loss: 0.1098 - accuracy: 0.9631 - val_loss: 0.1837 - val_accuracy: 0.9295\n",
            "Epoch 9/40\n",
            "220/220 [==============================] - 2s 9ms/step - loss: 0.1795 - accuracy: 0.9301 - val_loss: 0.3057 - val_accuracy: 0.8795\n",
            "Epoch 10/40\n",
            "220/220 [==============================] - 2s 8ms/step - loss: 0.1547 - accuracy: 0.9443 - val_loss: 0.1991 - val_accuracy: 0.9182\n",
            "Epoch 11/40\n",
            "220/220 [==============================] - 2s 8ms/step - loss: 0.1139 - accuracy: 0.9534 - val_loss: 0.0974 - val_accuracy: 0.9455\n",
            "Epoch 12/40\n",
            "220/220 [==============================] - 2s 8ms/step - loss: 0.1030 - accuracy: 0.9557 - val_loss: 0.0814 - val_accuracy: 0.9750\n",
            "Epoch 13/40\n",
            "220/220 [==============================] - 2s 8ms/step - loss: 0.1170 - accuracy: 0.9591 - val_loss: 0.0804 - val_accuracy: 0.9727\n",
            "Epoch 14/40\n",
            "220/220 [==============================] - 2s 8ms/step - loss: 0.1343 - accuracy: 0.9523 - val_loss: 0.1306 - val_accuracy: 0.9614\n",
            "Epoch 15/40\n",
            "220/220 [==============================] - 2s 8ms/step - loss: 0.0931 - accuracy: 0.9688 - val_loss: 0.0696 - val_accuracy: 0.9727\n",
            "Epoch 16/40\n",
            "220/220 [==============================] - 2s 8ms/step - loss: 0.0718 - accuracy: 0.9733 - val_loss: 0.1258 - val_accuracy: 0.9568\n",
            "Epoch 17/40\n",
            "220/220 [==============================] - 2s 8ms/step - loss: 0.0922 - accuracy: 0.9619 - val_loss: 0.1065 - val_accuracy: 0.9545\n",
            "Epoch 18/40\n",
            "220/220 [==============================] - 2s 7ms/step - loss: 0.1264 - accuracy: 0.9557 - val_loss: 0.0840 - val_accuracy: 0.9795\n",
            "Epoch 19/40\n",
            "220/220 [==============================] - 2s 8ms/step - loss: 0.1034 - accuracy: 0.9619 - val_loss: 0.1167 - val_accuracy: 0.9545\n",
            "Epoch 20/40\n",
            "220/220 [==============================] - 2s 8ms/step - loss: 0.0913 - accuracy: 0.9625 - val_loss: 0.0529 - val_accuracy: 0.9795\n",
            "Epoch 21/40\n",
            "220/220 [==============================] - 2s 8ms/step - loss: 0.1632 - accuracy: 0.9466 - val_loss: 0.1722 - val_accuracy: 0.9409\n",
            "Epoch 22/40\n",
            "220/220 [==============================] - 2s 8ms/step - loss: 0.0908 - accuracy: 0.9670 - val_loss: 0.0639 - val_accuracy: 0.9727\n",
            "Epoch 23/40\n",
            "220/220 [==============================] - 2s 8ms/step - loss: 0.1033 - accuracy: 0.9597 - val_loss: 0.1646 - val_accuracy: 0.9409\n",
            "Epoch 24/40\n",
            "220/220 [==============================] - 2s 9ms/step - loss: 0.0776 - accuracy: 0.9722 - val_loss: 0.0833 - val_accuracy: 0.9682\n",
            "Epoch 25/40\n",
            "220/220 [==============================] - 2s 8ms/step - loss: 0.1007 - accuracy: 0.9597 - val_loss: 0.1071 - val_accuracy: 0.9614\n",
            "Epoch 26/40\n",
            "220/220 [==============================] - 2s 8ms/step - loss: 0.0928 - accuracy: 0.9648 - val_loss: 0.0554 - val_accuracy: 0.9795\n",
            "Epoch 27/40\n",
            "220/220 [==============================] - 2s 8ms/step - loss: 0.0693 - accuracy: 0.9733 - val_loss: 0.0747 - val_accuracy: 0.9750\n",
            "Epoch 28/40\n",
            "220/220 [==============================] - 2s 7ms/step - loss: 0.0929 - accuracy: 0.9682 - val_loss: 0.1830 - val_accuracy: 0.9295\n",
            "Epoch 29/40\n",
            "220/220 [==============================] - 2s 8ms/step - loss: 0.0946 - accuracy: 0.9602 - val_loss: 0.1463 - val_accuracy: 0.9364\n",
            "Epoch 30/40\n",
            "220/220 [==============================] - 2s 8ms/step - loss: 0.0910 - accuracy: 0.9631 - val_loss: 0.0425 - val_accuracy: 0.9864\n",
            "Epoch 31/40\n",
            "220/220 [==============================] - 2s 8ms/step - loss: 0.0581 - accuracy: 0.9767 - val_loss: 0.0769 - val_accuracy: 0.9705\n",
            "Epoch 32/40\n",
            "220/220 [==============================] - 2s 8ms/step - loss: 0.0780 - accuracy: 0.9716 - val_loss: 0.0769 - val_accuracy: 0.9682\n",
            "Epoch 33/40\n",
            "220/220 [==============================] - 2s 8ms/step - loss: 0.0465 - accuracy: 0.9812 - val_loss: 0.0764 - val_accuracy: 0.9727\n",
            "Epoch 34/40\n",
            "220/220 [==============================] - 2s 8ms/step - loss: 0.1025 - accuracy: 0.9642 - val_loss: 0.1276 - val_accuracy: 0.9455\n",
            "Epoch 35/40\n",
            "220/220 [==============================] - 2s 8ms/step - loss: 0.0622 - accuracy: 0.9761 - val_loss: 0.0439 - val_accuracy: 0.9864\n",
            "Epoch 36/40\n",
            "220/220 [==============================] - 2s 8ms/step - loss: 0.0993 - accuracy: 0.9676 - val_loss: 0.0445 - val_accuracy: 0.9795\n",
            "Epoch 37/40\n",
            "220/220 [==============================] - 2s 8ms/step - loss: 0.0589 - accuracy: 0.9818 - val_loss: 0.0846 - val_accuracy: 0.9705\n",
            "Epoch 38/40\n",
            "220/220 [==============================] - 2s 8ms/step - loss: 0.0905 - accuracy: 0.9688 - val_loss: 0.0509 - val_accuracy: 0.9818\n",
            "Epoch 39/40\n",
            "220/220 [==============================] - 2s 8ms/step - loss: 0.0616 - accuracy: 0.9767 - val_loss: 0.1127 - val_accuracy: 0.9500\n",
            "Epoch 40/40\n",
            "220/220 [==============================] - 2s 8ms/step - loss: 0.0922 - accuracy: 0.9676 - val_loss: 0.0996 - val_accuracy: 0.9682\n"
          ]
        },
        {
          "output_type": "execute_result",
          "data": {
            "text/plain": [
              "<keras.callbacks.History at 0x7fabfa61df50>"
            ]
          },
          "metadata": {},
          "execution_count": 23
        }
      ]
    },
    {
      "cell_type": "code",
      "source": [
        "y_pred_con = model.predict(x_test)\n",
        "y_pred, y_correct = [], []\n",
        "\n",
        "for i in y_test:\n",
        "    y_correct.append(np.argmax(i))\n",
        "for j in y_pred_con:\n",
        "    y_pred.append(np.argmax(j))\n",
        "    \n",
        "pred_df = pd.DataFrame()\n",
        "pred_df['Pred_class'] = y_pred\n",
        "pred_df['Correct_class'] = y_correct\n",
        "pred_df"
      ],
      "metadata": {
        "colab": {
          "base_uri": "https://localhost:8080/",
          "height": 424
        },
        "id": "un3XMGNGtLVS",
        "outputId": "932a5e14-1250-494c-a6f5-60ddd803d51a"
      },
      "execution_count": 24,
      "outputs": [
        {
          "output_type": "execute_result",
          "data": {
            "text/plain": [
              "     Pred_class  Correct_class\n",
              "0            21             21\n",
              "1            21             21\n",
              "2             7              7\n",
              "3             3              3\n",
              "4             2              2\n",
              "..          ...            ...\n",
              "435          18             18\n",
              "436           1              1\n",
              "437           6              6\n",
              "438           2              2\n",
              "439           0              0\n",
              "\n",
              "[440 rows x 2 columns]"
            ],
            "text/html": [
              "\n",
              "  <div id=\"df-b9432fc8-cc9e-4b09-b4b2-4b9187d79f8f\">\n",
              "    <div class=\"colab-df-container\">\n",
              "      <div>\n",
              "<style scoped>\n",
              "    .dataframe tbody tr th:only-of-type {\n",
              "        vertical-align: middle;\n",
              "    }\n",
              "\n",
              "    .dataframe tbody tr th {\n",
              "        vertical-align: top;\n",
              "    }\n",
              "\n",
              "    .dataframe thead th {\n",
              "        text-align: right;\n",
              "    }\n",
              "</style>\n",
              "<table border=\"1\" class=\"dataframe\">\n",
              "  <thead>\n",
              "    <tr style=\"text-align: right;\">\n",
              "      <th></th>\n",
              "      <th>Pred_class</th>\n",
              "      <th>Correct_class</th>\n",
              "    </tr>\n",
              "  </thead>\n",
              "  <tbody>\n",
              "    <tr>\n",
              "      <th>0</th>\n",
              "      <td>21</td>\n",
              "      <td>21</td>\n",
              "    </tr>\n",
              "    <tr>\n",
              "      <th>1</th>\n",
              "      <td>21</td>\n",
              "      <td>21</td>\n",
              "    </tr>\n",
              "    <tr>\n",
              "      <th>2</th>\n",
              "      <td>7</td>\n",
              "      <td>7</td>\n",
              "    </tr>\n",
              "    <tr>\n",
              "      <th>3</th>\n",
              "      <td>3</td>\n",
              "      <td>3</td>\n",
              "    </tr>\n",
              "    <tr>\n",
              "      <th>4</th>\n",
              "      <td>2</td>\n",
              "      <td>2</td>\n",
              "    </tr>\n",
              "    <tr>\n",
              "      <th>...</th>\n",
              "      <td>...</td>\n",
              "      <td>...</td>\n",
              "    </tr>\n",
              "    <tr>\n",
              "      <th>435</th>\n",
              "      <td>18</td>\n",
              "      <td>18</td>\n",
              "    </tr>\n",
              "    <tr>\n",
              "      <th>436</th>\n",
              "      <td>1</td>\n",
              "      <td>1</td>\n",
              "    </tr>\n",
              "    <tr>\n",
              "      <th>437</th>\n",
              "      <td>6</td>\n",
              "      <td>6</td>\n",
              "    </tr>\n",
              "    <tr>\n",
              "      <th>438</th>\n",
              "      <td>2</td>\n",
              "      <td>2</td>\n",
              "    </tr>\n",
              "    <tr>\n",
              "      <th>439</th>\n",
              "      <td>0</td>\n",
              "      <td>0</td>\n",
              "    </tr>\n",
              "  </tbody>\n",
              "</table>\n",
              "<p>440 rows × 2 columns</p>\n",
              "</div>\n",
              "      <button class=\"colab-df-convert\" onclick=\"convertToInteractive('df-b9432fc8-cc9e-4b09-b4b2-4b9187d79f8f')\"\n",
              "              title=\"Convert this dataframe to an interactive table.\"\n",
              "              style=\"display:none;\">\n",
              "        \n",
              "  <svg xmlns=\"http://www.w3.org/2000/svg\" height=\"24px\"viewBox=\"0 0 24 24\"\n",
              "       width=\"24px\">\n",
              "    <path d=\"M0 0h24v24H0V0z\" fill=\"none\"/>\n",
              "    <path d=\"M18.56 5.44l.94 2.06.94-2.06 2.06-.94-2.06-.94-.94-2.06-.94 2.06-2.06.94zm-11 1L8.5 8.5l.94-2.06 2.06-.94-2.06-.94L8.5 2.5l-.94 2.06-2.06.94zm10 10l.94 2.06.94-2.06 2.06-.94-2.06-.94-.94-2.06-.94 2.06-2.06.94z\"/><path d=\"M17.41 7.96l-1.37-1.37c-.4-.4-.92-.59-1.43-.59-.52 0-1.04.2-1.43.59L10.3 9.45l-7.72 7.72c-.78.78-.78 2.05 0 2.83L4 21.41c.39.39.9.59 1.41.59.51 0 1.02-.2 1.41-.59l7.78-7.78 2.81-2.81c.8-.78.8-2.07 0-2.86zM5.41 20L4 18.59l7.72-7.72 1.47 1.35L5.41 20z\"/>\n",
              "  </svg>\n",
              "      </button>\n",
              "      \n",
              "  <style>\n",
              "    .colab-df-container {\n",
              "      display:flex;\n",
              "      flex-wrap:wrap;\n",
              "      gap: 12px;\n",
              "    }\n",
              "\n",
              "    .colab-df-convert {\n",
              "      background-color: #E8F0FE;\n",
              "      border: none;\n",
              "      border-radius: 50%;\n",
              "      cursor: pointer;\n",
              "      display: none;\n",
              "      fill: #1967D2;\n",
              "      height: 32px;\n",
              "      padding: 0 0 0 0;\n",
              "      width: 32px;\n",
              "    }\n",
              "\n",
              "    .colab-df-convert:hover {\n",
              "      background-color: #E2EBFA;\n",
              "      box-shadow: 0px 1px 2px rgba(60, 64, 67, 0.3), 0px 1px 3px 1px rgba(60, 64, 67, 0.15);\n",
              "      fill: #174EA6;\n",
              "    }\n",
              "\n",
              "    [theme=dark] .colab-df-convert {\n",
              "      background-color: #3B4455;\n",
              "      fill: #D2E3FC;\n",
              "    }\n",
              "\n",
              "    [theme=dark] .colab-df-convert:hover {\n",
              "      background-color: #434B5C;\n",
              "      box-shadow: 0px 1px 3px 1px rgba(0, 0, 0, 0.15);\n",
              "      filter: drop-shadow(0px 1px 2px rgba(0, 0, 0, 0.3));\n",
              "      fill: #FFFFFF;\n",
              "    }\n",
              "  </style>\n",
              "\n",
              "      <script>\n",
              "        const buttonEl =\n",
              "          document.querySelector('#df-b9432fc8-cc9e-4b09-b4b2-4b9187d79f8f button.colab-df-convert');\n",
              "        buttonEl.style.display =\n",
              "          google.colab.kernel.accessAllowed ? 'block' : 'none';\n",
              "\n",
              "        async function convertToInteractive(key) {\n",
              "          const element = document.querySelector('#df-b9432fc8-cc9e-4b09-b4b2-4b9187d79f8f');\n",
              "          const dataTable =\n",
              "            await google.colab.kernel.invokeFunction('convertToInteractive',\n",
              "                                                     [key], {});\n",
              "          if (!dataTable) return;\n",
              "\n",
              "          const docLinkHtml = 'Like what you see? Visit the ' +\n",
              "            '<a target=\"_blank\" href=https://colab.research.google.com/notebooks/data_table.ipynb>data table notebook</a>'\n",
              "            + ' to learn more about interactive tables.';\n",
              "          element.innerHTML = '';\n",
              "          dataTable['output_type'] = 'display_data';\n",
              "          await google.colab.output.renderOutput(dataTable, element);\n",
              "          const docLink = document.createElement('div');\n",
              "          docLink.innerHTML = docLinkHtml;\n",
              "          element.appendChild(docLink);\n",
              "        }\n",
              "      </script>\n",
              "    </div>\n",
              "  </div>\n",
              "  "
            ]
          },
          "metadata": {},
          "execution_count": 24
        }
      ]
    },
    {
      "cell_type": "code",
      "source": [
        "import seaborn as sns\n",
        "from sklearn.metrics import classification_report, confusion_matrix\n",
        "from sklearn import metrics\n",
        "import tensorflow as tf\n",
        "print(classification_report(y_pred, y_correct))\n",
        "cm = tf.math.confusion_matrix(y_pred, y_correct)\n",
        "\n",
        "plt.figure(figsize=(7,6))\n",
        "sns.heatmap(cm, annot=True, fmt='d')\n",
        "plt.xlabel('Predicted')\n",
        "plt.ylabel('Truth')"
      ],
      "metadata": {
        "colab": {
          "base_uri": "https://localhost:8080/",
          "height": 909
        },
        "id": "iY0H21Katk7s",
        "outputId": "aa9e2d59-8957-475f-a6a4-900084045d15"
      },
      "execution_count": 25,
      "outputs": [
        {
          "output_type": "stream",
          "name": "stdout",
          "text": [
            "              precision    recall  f1-score   support\n",
            "\n",
            "           0       1.00      1.00      1.00        18\n",
            "           1       1.00      1.00      1.00        18\n",
            "           2       0.91      1.00      0.95        20\n",
            "           3       1.00      1.00      1.00        23\n",
            "           4       0.87      1.00      0.93        13\n",
            "           5       0.88      1.00      0.94        15\n",
            "           6       0.88      1.00      0.93        14\n",
            "           7       1.00      1.00      1.00        18\n",
            "           8       0.90      0.86      0.88        22\n",
            "           9       1.00      1.00      1.00        20\n",
            "          10       1.00      1.00      1.00        17\n",
            "          11       1.00      0.90      0.95        20\n",
            "          12       1.00      0.95      0.98        22\n",
            "          13       0.96      0.92      0.94        26\n",
            "          14       1.00      1.00      1.00        17\n",
            "          15       1.00      1.00      1.00        23\n",
            "          16       1.00      0.92      0.96        25\n",
            "          17       1.00      0.91      0.95        23\n",
            "          18       1.00      1.00      1.00        22\n",
            "          19       1.00      1.00      1.00        23\n",
            "          20       0.88      0.92      0.90        24\n",
            "          21       1.00      1.00      1.00        17\n",
            "\n",
            "    accuracy                           0.97       440\n",
            "   macro avg       0.97      0.97      0.97       440\n",
            "weighted avg       0.97      0.97      0.97       440\n",
            "\n"
          ]
        },
        {
          "output_type": "execute_result",
          "data": {
            "text/plain": [
              "Text(42.0, 0.5, 'Truth')"
            ]
          },
          "metadata": {},
          "execution_count": 25
        },
        {
          "output_type": "display_data",
          "data": {
            "text/plain": [
              "<Figure size 504x432 with 2 Axes>"
            ],
            "image/png": "[encoded data removed]"
          },
          "metadata": {
            "needs_background": "light"
          }
        }
      ]
    },
    {
      "cell_type": "code",
      "source": [
        "plt.scatter(y_pred, y_correct)\n",
        "plt.show()"
      ],
      "metadata": {
        "colab": {
          "base_uri": "https://localhost:8080/",
          "height": 265
        },
        "id": "1M5IldWKghkd",
        "outputId": "a6a7570e-9531-4155-97a9-2fcc7fe7f229"
      },
      "execution_count": 26,
      "outputs": [
        {
          "output_type": "display_data",
          "data": {
            "text/plain": [
              "<Figure size 432x288 with 1 Axes>"
            ],
            "image/png": "[encoded data removed]"
          },
          "metadata": {
            "needs_background": "light"
          }
        }
      ]
    },
    {
      "cell_type": "code",
      "source": [
        "from sklearn.metrics import f1_score, accuracy_score, precision_score, recall_score\n",
        "from sklearn.metrics import mean_absolute_error, max_error, mean_squared_error, mean_absolute_percentage_error\n",
        "print(accuracy_score(y_pred, y_correct))\n",
        "print(mean_absolute_error(y_pred, y_correct))\n",
        "print(mean_squared_error(y_pred, y_correct))\n",
        "print(max_error(y_pred, y_correct))"
      ],
      "metadata": {
        "colab": {
          "base_uri": "https://localhost:8080/"
        },
        "id": "MTCT2ru8t4uT",
        "outputId": "0f489d65-83df-4ab2-e1c0-394ad7fd77b2"
      },
      "execution_count": 27,
      "outputs": [
        {
          "output_type": "stream",
          "name": "stdout",
          "text": [
            "0.9681818181818181\n",
            "0.23863636363636365\n",
            "2.3840909090909093\n",
            "12\n"
          ]
        }
      ]
    },
    {
      "cell_type": "code",
      "source": [],
      "metadata": {
        "id": "XQGAmGkrbjJt"
      },
      "execution_count": null,
      "outputs": []
    }
  ],
  "metadata": {
    "colab": {
      "collapsed_sections": [],
      "provenance": []
    },
    "kernelspec": {
      "display_name": "Python 3",
      "language": "python",
      "name": "python3"
    },
    "language_info": {
      "codemirror_mode": {
        "name": "ipython",
        "version": 3
      },
      "file_extension": ".py",
      "mimetype": "text/x-python",
      "name": "python",
      "nbconvert_exporter": "python",
      "pygments_lexer": "ipython3",
      "version": "3.6.4"
    },
    "accelerator": "GPU"
  },
  "nbformat": 4,
  "nbformat_minor": 0
}